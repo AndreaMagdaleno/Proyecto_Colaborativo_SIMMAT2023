{
 "cells": [
  {
   "cell_type": "markdown",
   "id": "86c48058",
   "metadata": {},
   "source": [
    "# 1.1 Proyecto 1"
   ]
  },
  {
   "cell_type": "markdown",
   "id": "cd99d673",
   "metadata": {},
   "source": [
    "# 1.2 Objetivos\n",
    "\n",
    "## 1.2.1 Objetivo general\n",
    "## 1.2.2 Objetivos especificos \n"
   ]
  },
  {
   "cell_type": "markdown",
   "id": "ecebc143",
   "metadata": {},
   "source": [
    "# 1.3 Introducción"
   ]
  },
  {
   "cell_type": "markdown",
   "id": "9d48993c",
   "metadata": {},
   "source": [
    "# 1.4 Modelo que representa el problema"
   ]
  },
  {
   "cell_type": "markdown",
   "id": "4890330c",
   "metadata": {},
   "source": [
    "# 1.5 Solución del problema de optimización"
   ]
  },
  {
   "cell_type": "code",
   "execution_count": null,
   "id": "780572f2",
   "metadata": {},
   "outputs": [],
   "source": [
    "# 1.6 Visualización de la soluci"
   ]
  }
 ],
 "metadata": {
  "kernelspec": {
   "display_name": "Python 3 (ipykernel)",
   "language": "python",
   "name": "python3"
  },
  "language_info": {
   "codemirror_mode": {
    "name": "ipython",
    "version": 3
   },
   "file_extension": ".py",
   "mimetype": "text/x-python",
   "name": "python",
   "nbconvert_exporter": "python",
   "pygments_lexer": "ipython3",
   "version": "3.11.4"
  }
 },
 "nbformat": 4,
 "nbformat_minor": 5
}
