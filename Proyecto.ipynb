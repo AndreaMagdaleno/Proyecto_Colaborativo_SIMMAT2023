{
 "cells": [
  {
   "cell_type": "markdown",
   "id": "86c48058",
   "metadata": {},
   "source": [
    "# 1.1 Proyecto 1"
   ]
  },
  {
   "cell_type": "markdown",
   "id": "cd99d673",
   "metadata": {},
   "source": [
    "# 1.2 Objetivos\n",
    "\n",
    "## 1.2.1 Objetivo general\n",
    "## 1.2.2 Objetivos especificos \n"
   ]
  },
  {
   "cell_type": "markdown",
   "id": "ecebc143",
   "metadata": {},
   "source": [
    "# 1.3 Introducción\n",
    "#### En una construcción de un edificio que se encuentra en la fase de la cimentación. Se deben excavar dos tipos de elementos, zapatas y contratrabes.\n",
    "#### Esta excavación se debe realizar en dos etapas, la primera con maquinaria y la segunda a mano pues debe afinar la capa de tierra.  Para realizar las zapatas se necesita un tiempo de maquinaria de 20 minutos y para las contratrabes de 30 minutos.-\n",
    "#### Para afinar las zapatas manualmente se requiere de 20 minutos, mientras que para las contratrabes se requiere de 10 minutos.\n",
    "\n",
    "#### Al mes tenemos disponibilidad del equipo manual de 100 horas y la maquinaria tiene una disponibilidad de 80 horas para este trabajo. La constructura obtiene una ganancia de 15 dolares de la excavación de zapatas y de 10 dolares por las contratrabes.\n",
    "#### Debemos planificar la producción de m3 de excavación para obtener la máxima utilidad."
   ]
  },
  {
   "cell_type": "markdown",
   "id": "9d48993c",
   "metadata": {},
   "source": [
    "# 1.4 Modelo que representa el problema\n"
   ]
  },
  {
   "cell_type": "markdown",
   "id": "9fc42ae2",
   "metadata": {},
   "source": [
    "#### El primer paso es definir las variables:\n",
    "\n",
    "x1= m3 de excavación de zapata.\n",
    "x2= m3 de excavación de contratrabe.\n",
    "\n",
    "\n",
    "#### Para solucionar este problema debemos determinar la funcionar de costo la cual sería:\n",
    "\n",
    "                               f(c)= 15x1 + 98x2\n",
    "                               \n",
    "#### Definimos las restricciones del problema:                               \n",
    "                                \n",
    "\n",
    "#### Reescribimos nuestra función como vectores:\n",
    "\n",
    "                               "
   ]
  },
  {
   "cell_type": "markdown",
   "id": "4890330c",
   "metadata": {},
   "source": [
    "# 1.5 Solución del problema de optimización"
   ]
  },
  {
   "cell_type": "code",
   "execution_count": 8,
   "id": "1f80313f",
   "metadata": {},
   "outputs": [],
   "source": [
    "# Importar numpy para crear matrices\n",
    "import numpy as np"
   ]
  },
  {
   "cell_type": "code",
   "execution_count": 36,
   "id": "205b5f3d",
   "metadata": {},
   "outputs": [],
   "source": [
    "# Crear las matrices para resolver el problema\n",
    "c = np.array([15, 10])\n",
    "b = np.array([-100, -80])\n",
    "A = np.array([[-.333, -0.5],\n",
    "             [-0.333, -0.166]])"
   ]
  },
  {
   "cell_type": "code",
   "execution_count": 37,
   "id": "d3f5c82b",
   "metadata": {},
   "outputs": [
    {
     "data": {
      "text/plain": [
       "(array([15, 10]),\n",
       " array([-100,  -80]),\n",
       " array([[-0.333, -0.5  ],\n",
       "        [-0.333, -0.166]]))"
      ]
     },
     "execution_count": 37,
     "metadata": {},
     "output_type": "execute_result"
    }
   ],
   "source": [
    "c,b,A"
   ]
  },
  {
   "cell_type": "code",
   "execution_count": 38,
   "id": "0642617d",
   "metadata": {},
   "outputs": [],
   "source": [
    "# Resolverlo utilizando linprog\n",
    "sol_exc = opt.linprog(c, A_ub=A, b_ub=b)"
   ]
  },
  {
   "cell_type": "code",
   "execution_count": 39,
   "id": "49ee17fe",
   "metadata": {},
   "outputs": [
    {
     "data": {
      "text/plain": [
       "        message: Optimization terminated successfully. (HiGHS Status 7: Optimal)\n",
       "        success: True\n",
       "         status: 0\n",
       "            fun: 3754.6528564492633\n",
       "              x: [ 2.104e+02  5.988e+01]\n",
       "            nit: 2\n",
       "          lower:  residual: [ 2.104e+02  5.988e+01]\n",
       "                 marginals: [ 0.000e+00  0.000e+00]\n",
       "          upper:  residual: [       inf        inf]\n",
       "                 marginals: [ 0.000e+00  0.000e+00]\n",
       "          eqlin:  residual: []\n",
       "                 marginals: []\n",
       "        ineqlin:  residual: [ 0.000e+00  0.000e+00]\n",
       "                 marginals: [-7.552e+00 -3.749e+01]\n",
       " mip_node_count: 0\n",
       " mip_dual_bound: 0.0\n",
       "        mip_gap: 0.0"
      ]
     },
     "execution_count": 39,
     "metadata": {},
     "output_type": "execute_result"
    }
   ],
   "source": [
    "# Mostrar el resultado\n",
    "sol_exc"
   ]
  },
  {
   "cell_type": "code",
   "execution_count": 40,
   "id": "49d9e647",
   "metadata": {},
   "outputs": [
    {
     "data": {
      "text/plain": [
       "array([210.39003075,  59.88023952])"
      ]
     },
     "execution_count": 40,
     "metadata": {},
     "output_type": "execute_result"
    }
   ],
   "source": [
    "# Extraer el vector solución\n",
    "x = sol_exc.x\n",
    "x"
   ]
  },
  {
   "cell_type": "markdown",
   "id": "01d0a394",
   "metadata": {},
   "source": [
    "# 1.6 Visualización de la solucion"
   ]
  },
  {
   "cell_type": "code",
   "execution_count": null,
   "id": "03a693df",
   "metadata": {},
   "outputs": [],
   "source": []
  }
 ],
 "metadata": {
  "kernelspec": {
   "display_name": "Python 3 (ipykernel)",
   "language": "python",
   "name": "python3"
  },
  "language_info": {
   "codemirror_mode": {
    "name": "ipython",
    "version": 3
   },
   "file_extension": ".py",
   "mimetype": "text/x-python",
   "name": "python",
   "nbconvert_exporter": "python",
   "pygments_lexer": "ipython3",
   "version": "3.11.4"
  }
 },
 "nbformat": 4,
 "nbformat_minor": 5
}
